{
 "cells": [
  {
   "cell_type": "markdown",
   "metadata": {},
   "source": [
    "# scqubits example: the fluxonium qubit\n",
    "J. Koch and P. Groszkowski\n",
    "\n",
    "For further documentation of scqubits see https://scqubits.readthedocs.io/en/latest/.\n",
    "\n",
    "---"
   ]
  },
  {
   "cell_type": "code",
   "execution_count": 1,
   "metadata": {
    "ExecuteTime": {
     "end_time": "2020-03-27T12:06:07.457721Z",
     "start_time": "2020-03-27T12:06:06.226978Z"
    },
    "init_cell": true,
    "pycharm": {
     "is_executing": false
    },
    "scrolled": true
   },
   "outputs": [],
   "source": [
    "import numpy as np\n",
    "import scqubits as scq"
   ]
  },
  {
   "cell_type": "markdown",
   "metadata": {},
   "source": [
    "# Fluxonium qubit"
   ]
  },
  {
   "cell_type": "markdown",
   "metadata": {},
   "source": [
    "$H_\\text{fl}=-4E_\\text{C}\\partial_\\phi^2-E_\\text{J}\\cos(\\phi-\\varphi_\\text{ext}) +\\frac{1}{2}E_L\\phi^2$"
   ]
  },
  {
   "cell_type": "markdown",
   "metadata": {},
   "source": [
    "**Creation via GUI** (ipywidgets needs to be installed for this to work.)"
   ]
  },
  {
   "cell_type": "code",
   "execution_count": null,
   "metadata": {
    "ExecuteTime": {
     "end_time": "2020-03-27T12:08:37.174509Z",
     "start_time": "2020-03-27T12:08:37.105692Z"
    }
   },
   "outputs": [],
   "source": [
    "fluxonium = scq.Fluxonium.create()"
   ]
  },
  {
   "cell_type": "code",
   "execution_count": null,
   "metadata": {
    "ExecuteTime": {
     "end_time": "2020-03-24T22:08:13.758806Z",
     "start_time": "2020-03-24T22:08:13.744843Z"
    }
   },
   "outputs": [],
   "source": [
    "print(fluxonium)"
   ]
  },
  {
   "cell_type": "markdown",
   "metadata": {},
   "source": [
    "**Programmatic creation**"
   ]
  },
  {
   "cell_type": "code",
   "execution_count": null,
   "metadata": {
    "ExecuteTime": {
     "end_time": "2020-03-27T12:06:07.463676Z",
     "start_time": "2020-03-27T12:06:07.459683Z"
    }
   },
   "outputs": [],
   "source": [
    "fluxonium2 = scq.Fluxonium(\n",
    "    EJ=8.9,\n",
    "    EC=2.5,\n",
    "    EL=0.5,\n",
    "    cutoff = 110,\n",
    "    flux = 0.5\n",
    ")"
   ]
  },
  {
   "cell_type": "markdown",
   "metadata": {},
   "source": [
    "## Computing and visualizing spectra"
   ]
  },
  {
   "cell_type": "code",
   "execution_count": null,
   "metadata": {},
   "outputs": [],
   "source": [
    "fluxonium.eigenvals()"
   ]
  },
  {
   "cell_type": "code",
   "execution_count": null,
   "metadata": {},
   "outputs": [],
   "source": [
    "flux_list = np.linspace(-0.5, 0.5, 151)\n",
    "fluxonium.plot_evals_vs_paramvals('flux', flux_list, evals_count=8);"
   ]
  },
  {
   "cell_type": "code",
   "execution_count": null,
   "metadata": {},
   "outputs": [],
   "source": [
    "fluxonium.cos_phi_operator()"
   ]
  },
  {
   "cell_type": "code",
   "execution_count": null,
   "metadata": {
    "ExecuteTime": {
     "end_time": "2020-02-13T22:55:12.259399Z",
     "start_time": "2020-02-13T22:55:09.203572Z"
    }
   },
   "outputs": [],
   "source": [
    "fluxonium.plot_evals_vs_paramvals('flux', flux_list, evals_count=9, subtract_ground=True);"
   ]
  },
  {
   "cell_type": "code",
   "execution_count": null,
   "metadata": {
    "ExecuteTime": {
     "end_time": "2020-02-13T22:55:15.087870Z",
     "start_time": "2020-02-13T22:55:14.155331Z"
    }
   },
   "outputs": [],
   "source": [
    "fluxonium.flux = 0.5\n",
    "fluxonium.plot_wavefunction(esys=None, which=range(5), mode='real');"
   ]
  },
  {
   "cell_type": "code",
   "execution_count": null,
   "metadata": {},
   "outputs": [],
   "source": [
    "fluxonium = scq.Fluxonium(\n",
    "    EJ=5.7,\n",
    "    EC=1.2,\n",
    "    EL=1.0,\n",
    "    cutoff = 150,\n",
    "    flux = 0.5\n",
    ")\n",
    "fig, axes=fluxonium.plot_wavefunction(esys=None, which=[0,1,2,3,4,5], mode='real');"
   ]
  },
  {
   "cell_type": "markdown",
   "metadata": {},
   "source": [
    "## Matrix elements"
   ]
  },
  {
   "cell_type": "code",
   "execution_count": null,
   "metadata": {
    "ExecuteTime": {
     "end_time": "2020-02-13T22:55:23.804641Z",
     "start_time": "2020-02-13T22:55:22.664581Z"
    }
   },
   "outputs": [],
   "source": [
    "phimat = fluxonium.matrixelement_table('phi_operator', evals_count=10)\n",
    "print(phimat)"
   ]
  },
  {
   "cell_type": "code",
   "execution_count": null,
   "metadata": {
    "ExecuteTime": {
     "end_time": "2020-02-13T22:55:27.409939Z",
     "start_time": "2020-02-13T22:55:25.414225Z"
    }
   },
   "outputs": [],
   "source": [
    "fluxonium.plot_matrixelements('n_operator', evals_count=16);"
   ]
  },
  {
   "cell_type": "code",
   "execution_count": null,
   "metadata": {},
   "outputs": [],
   "source": [
    "fluxonium.plot_matelem_vs_paramvals('n_operator', 'flux', flux_list, select_elems=5);"
   ]
  }
 ],
 "metadata": {
  "celltoolbar": "Initialisation Cell",
  "kernelspec": {
   "display_name": "Python 3 (ipykernel)",
   "language": "python",
   "name": "python3"
  },
  "language_info": {
   "codemirror_mode": {
    "name": "ipython",
    "version": 3
   },
   "file_extension": ".py",
   "mimetype": "text/x-python",
   "name": "python",
   "nbconvert_exporter": "python",
   "pygments_lexer": "ipython3",
   "version": "3.9.16"
  },
  "pycharm": {
   "stem_cell": {
    "cell_type": "raw",
    "metadata": {
     "collapsed": false
    },
    "source": []
   }
  },
  "toc": {
   "base_numbering": 1,
   "nav_menu": {},
   "number_sections": false,
   "sideBar": true,
   "skip_h1_title": true,
   "title_cell": "Table of Contents",
   "title_sidebar": "Contents",
   "toc_cell": false,
   "toc_position": {},
   "toc_section_display": true,
   "toc_window_display": false
  },
  "varInspector": {
   "cols": {
    "lenName": 16,
    "lenType": 16,
    "lenVar": 40
   },
   "kernels_config": {
    "python": {
     "delete_cmd_postfix": "",
     "delete_cmd_prefix": "del ",
     "library": "var_list.py",
     "varRefreshCmd": "print(var_dic_list())"
    },
    "r": {
     "delete_cmd_postfix": ") ",
     "delete_cmd_prefix": "rm(",
     "library": "var_list.r",
     "varRefreshCmd": "cat(var_dic_list()) "
    }
   },
   "types_to_exclude": [
    "module",
    "function",
    "builtin_function_or_method",
    "instance",
    "_Feature"
   ],
   "window_display": false
  },
  "widgets": {
   "application/vnd.jupyter.widget-state+json": {
    "state": {},
    "version_major": 2,
    "version_minor": 0
   }
  }
 },
 "nbformat": 4,
 "nbformat_minor": 4
}
