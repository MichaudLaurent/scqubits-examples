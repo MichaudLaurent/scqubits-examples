{
 "cells": [
  {
   "cell_type": "markdown",
   "id": "6e21ebf5",
   "metadata": {},
   "source": [
    "# scqubits examples: custom circuits\n",
    "\n",
    "For further documentation of scqubits see https://scqubits.readthedocs.io/en/latest/.\n",
    "\n",
    "---"
   ]
  },
  {
   "cell_type": "code",
   "execution_count": 1,
   "id": "8ee2831b-8190-498c-8c85-4753d28bca51",
   "metadata": {},
   "outputs": [],
   "source": [
    "import scqubits as scq\n",
    "import matplotlib.pyplot as plt\n",
    "import numpy as np"
   ]
  },
  {
   "cell_type": "markdown",
   "id": "6f934120",
   "metadata": {},
   "source": [
    "# Example:   asymmetric $0$-$\\pi$ circuit"
   ]
  },
  {
   "cell_type": "markdown",
   "id": "93137a0e-0d49-47b1-92a1-a9dd6ef1361e",
   "metadata": {},
   "source": [
    "**$0$-$\\pi$ circuit information**"
   ]
  },
  {
   "cell_type": "code",
   "execution_count": 2,
   "id": "334a9b1e",
   "metadata": {
    "tags": []
   },
   "outputs": [],
   "source": [
    "zp_yaml =\"\"\"\n",
    "# zero-pi circuit\n",
    "branches:\n",
    "- [\"JJ\", 1, 2, EJ=10, 20] \n",
    "- [\"JJ\", 3, 4, EJ, 20]\n",
    "- [\"L\", 2, 3, 0.01]\n",
    "- [\"L\", 4, 1, 0.008]\n",
    "- [\"C\", 1, 3, 0.02]\n",
    "- [\"C\", 2, 4, 0.02]\n",
    "\"\"\""
   ]
  },
  {
   "cell_type": "markdown",
   "id": "10208459-3b8a-4efb-93df-96ef388925e0",
   "metadata": {},
   "source": [
    "**Define circuit**"
   ]
  },
  {
   "cell_type": "code",
   "execution_count": 3,
   "id": "fdb44a19",
   "metadata": {
    "tags": []
   },
   "outputs": [],
   "source": [
    "zero_pi = scq.Circuit(zp_yaml, from_file=False, ext_basis=\"discretized\")"
   ]
  },
  {
   "cell_type": "markdown",
   "id": "af2f8e28",
   "metadata": {},
   "source": [
    "## Lagrangian and variable transformation"
   ]
  },
  {
   "cell_type": "markdown",
   "id": "9d86569b-4ee8-456a-abd2-6734333a2cae",
   "metadata": {
    "tags": []
   },
   "source": [
    "**Lagrangian in terms of node variables**"
   ]
  },
  {
   "cell_type": "code",
   "execution_count": 4,
   "id": "eb41bc00",
   "metadata": {
    "tags": []
   },
   "outputs": [
    {
     "data": {
      "text/latex": [
       "$ \\left(0.5 \\dot{φ_1} \\cdot \\left(6.25625 \\dot{φ_1} - 6.25 \\dot{φ_3} - 0.00625 \\dot{φ_2}\\right) + 0.5 \\dot{φ_2} \\left(6.25625 \\dot{φ_2} - 6.25 \\dot{φ_4} - 0.00625 \\dot{φ_1}\\right) + 0.5 \\dot{φ_3} \\left(6.25625 \\dot{φ_3} - 6.25 \\dot{φ_1} - 0.00625 \\dot{φ_4}\\right) + 0.5 \\dot{φ_4} \\left(6.25625 \\dot{φ_4} - 6.25 \\dot{φ_2} - 0.00625 \\dot{φ_3}\\right)\\right) + \\left(- 0.005 \\left(φ_{3} - φ_{2}\\right)^{2} - 0.004 \\left(φ_{1} - φ_{4}\\right)^{2} + EJ \\cos{\\left(φ_{1} - φ_{2} \\right)} + EJ \\cos{\\left((2πΦ_{1}) + φ_{4} - φ_{3} \\right)}\\right) $"
      ],
      "text/plain": [
       "<IPython.core.display.Latex object>"
      ]
     },
     "metadata": {},
     "output_type": "display_data"
    }
   ],
   "source": [
    "zero_pi.sym_lagrangian(vars_type=\"node\")"
   ]
  },
  {
   "cell_type": "markdown",
   "id": "0af4de78-01d4-48f3-bcc2-b1d213fde8c5",
   "metadata": {},
   "source": [
    "**Transformation between node variables $\\{\\varphi_n\\}$ and new variables $\\{\\theta_m\\}$**"
   ]
  },
  {
   "cell_type": "code",
   "execution_count": 5,
   "id": "94d2fbcc",
   "metadata": {},
   "outputs": [
    {
     "data": {
      "text/latex": [
       "$ φ_{1} = 1.0 θ_{3} + 1.0 θ_{4} - 1.0 θ_{2} \\\\ φ_{2} = 1.0 θ_{1} + 1.0 θ_{4} - 1.0 θ_{2} \\\\ φ_{3} = 1.0 θ_{1} + 1.0 θ_{2} + 1.0 θ_{3} + 1.0 θ_{4} \\\\ φ_{4} = 1.0 θ_{2} + 1.0 θ_{4} $"
      ],
      "text/plain": [
       "<IPython.core.display.Latex object>"
      ]
     },
     "metadata": {},
     "output_type": "display_data"
    }
   ],
   "source": [
    "zero_pi.variable_transformation()"
   ]
  },
  {
   "cell_type": "code",
   "execution_count": 6,
   "id": "9f9f66c1",
   "metadata": {
    "tags": []
   },
   "outputs": [
    {
     "data": {
      "text/plain": [
       "array([[ 0., -1.,  1.,  1.],\n",
       "       [ 1., -1.,  0.,  1.],\n",
       "       [ 1.,  1.,  1.,  1.],\n",
       "       [ 0.,  1.,  0.,  1.]])"
      ]
     },
     "execution_count": 6,
     "metadata": {},
     "output_type": "execute_result"
    }
   ],
   "source": [
    "zero_pi.transformation_matrix"
   ]
  },
  {
   "cell_type": "markdown",
   "id": "258d7960-b6d6-4bc4-9b46-e90ad67b97c1",
   "metadata": {},
   "source": [
    "**Types of $\\{\\theta_m\\}$ variables in the $0$-$\\pi$ circuit.** "
   ]
  },
  {
   "cell_type": "code",
   "execution_count": 7,
   "id": "e892fdcf",
   "metadata": {
    "tags": []
   },
   "outputs": [
    {
     "data": {
      "text/plain": [
       "{'periodic': [1], 'extended': [2, 3], 'free': [], 'frozen': []}"
      ]
     },
     "execution_count": 7,
     "metadata": {},
     "output_type": "execute_result"
    }
   ],
   "source": [
    "zero_pi.var_categories\n",
    "# The numbers associated to each type correspond to the indices of the $\\theta_m$ variables."
   ]
  },
  {
   "cell_type": "markdown",
   "id": "075fa9fd-6435-4d00-951a-7dbebc689279",
   "metadata": {
    "tags": []
   },
   "source": [
    "**Symbolic Lagrangian in terms of new variables**"
   ]
  },
  {
   "cell_type": "code",
   "execution_count": 8,
   "id": "caa76553",
   "metadata": {
    "tags": []
   },
   "outputs": [
    {
     "data": {
      "text/latex": [
       "$ \\left(25.0 \\dot{θ_2}^{2} + 0.00625 \\dot{θ_3}^{2} + 6.25625 \\dot{θ_1}^{2}\\right) - \\left(0.009 θ_{3}^{2} + 0.036 θ_{2}^{2} - EJ \\cos{\\left(θ_{1} - 1.0 θ_{3} \\right)} - EJ \\cos{\\left(θ_{1} + θ_{3} - (2πΦ_{1}) \\right)} + 0.004 θ_{2} θ_{3}\\right) $"
      ],
      "text/plain": [
       "<IPython.core.display.Latex object>"
      ]
     },
     "metadata": {},
     "output_type": "display_data"
    }
   ],
   "source": [
    "zero_pi.sym_lagrangian(vars_type=\"new\")"
   ]
  },
  {
   "cell_type": "markdown",
   "id": "ee34212b",
   "metadata": {},
   "source": [
    "## Hamiltonian and diagonalization"
   ]
  },
  {
   "cell_type": "markdown",
   "id": "30c32cb1-c69d-4c7b-ab9d-f0745072aefc",
   "metadata": {},
   "source": [
    "**Symbolic Hamiltonian**"
   ]
  },
  {
   "cell_type": "code",
   "execution_count": 9,
   "id": "79d9115a",
   "metadata": {
    "tags": []
   },
   "outputs": [
    {
     "data": {
      "text/latex": [
       "$ \\left(40.0 Q_{3}^{2} + 0.03996 n_{1}^{2} + 0.03996 n_{g1}^{2} + 0.01 Q_{2}^{2} + 0.07992 n_{1} n_{g1}\\right) + \\left(0.009 θ_{3}^{2} + 0.036 θ_{2}^{2} - EJ \\cos{\\left(θ_{1} - 1.0 θ_{3} \\right)} - EJ \\cos{\\left(θ_{1} + θ_{3} - (2πΦ_{1}) \\right)} + 0.004 θ_{2} θ_{3}\\right) $"
      ],
      "text/plain": [
       "<IPython.core.display.Latex object>"
      ]
     },
     "metadata": {},
     "output_type": "display_data"
    }
   ],
   "source": [
    "zero_pi.sym_hamiltonian()"
   ]
  },
  {
   "cell_type": "code",
   "execution_count": 10,
   "id": "1c7dceb0",
   "metadata": {},
   "outputs": [
    {
     "data": {
      "text/plain": [
       "[ng1]"
      ]
     },
     "execution_count": 10,
     "metadata": {},
     "output_type": "execute_result"
    }
   ],
   "source": [
    "zero_pi.offset_charges"
   ]
  },
  {
   "cell_type": "code",
   "execution_count": 13,
   "id": "dd43c3aa",
   "metadata": {},
   "outputs": [
    {
     "data": {
      "text/plain": [
       "0.8"
      ]
     },
     "execution_count": 13,
     "metadata": {},
     "output_type": "execute_result"
    }
   ],
   "source": [
    "zero_pi.ng1"
   ]
  },
  {
   "cell_type": "code",
   "execution_count": 15,
   "id": "cf142928",
   "metadata": {},
   "outputs": [
    {
     "data": {
      "text/latex": [
       "$ n_{g1} = 1.0 q_{g3} + 1.0 q_{g4} - 1.0 q_{g2} $"
      ],
      "text/plain": [
       "<IPython.core.display.Latex object>"
      ]
     },
     "metadata": {},
     "output_type": "display_data"
    }
   ],
   "source": [
    "zero_pi.offset_charge_transformation()"
   ]
  },
  {
   "cell_type": "markdown",
   "id": "b5ea9066-d370-4be3-b92f-a6c0a71f9185",
   "metadata": {},
   "source": [
    "**Set cut-off for each variable**"
   ]
  },
  {
   "cell_type": "code",
   "execution_count": 10,
   "id": "41794bb0",
   "metadata": {
    "tags": []
   },
   "outputs": [
    {
     "data": {
      "text/plain": [
       "['cutoff_n_1', 'cutoff_ext_2', 'cutoff_ext_3']"
      ]
     },
     "execution_count": 10,
     "metadata": {},
     "output_type": "execute_result"
    }
   ],
   "source": [
    "zero_pi.cutoff_names"
   ]
  },
  {
   "cell_type": "code",
   "execution_count": 11,
   "id": "40ddb3cd-fe12-45eb-b200-2ee8589300c3",
   "metadata": {},
   "outputs": [],
   "source": [
    "zero_pi.cutoff_n_1 = 15\n",
    "zero_pi.cutoff_ext_2 = 15\n",
    "zero_pi.cutoff_ext_3 = 15"
   ]
  },
  {
   "cell_type": "markdown",
   "id": "5c126ca6",
   "metadata": {},
   "source": [
    "**Eigenvalues**"
   ]
  },
  {
   "cell_type": "code",
   "execution_count": 12,
   "id": "ed9a78f3-cf57-4700-8be3-1ef3d109cbcf",
   "metadata": {},
   "outputs": [
    {
     "name": "stdout",
     "output_type": "stream",
     "text": [
      "CPU times: user 965 ms, sys: 3.64 s, total: 4.6 s\n",
      "Wall time: 332 ms\n"
     ]
    },
    {
     "data": {
      "text/plain": [
       "array([-7.81287861, -7.55203947, -7.55159317, -6.76876942, -6.76876917,\n",
       "       -6.74373122])"
      ]
     },
     "execution_count": 12,
     "metadata": {},
     "output_type": "execute_result"
    }
   ],
   "source": [
    "%time zero_pi.eigenvals()"
   ]
  },
  {
   "cell_type": "markdown",
   "id": "a79d5886",
   "metadata": {},
   "source": [
    "## Spectrum using hierarchical diagonalization algorithm (HD) to reduce computational time"
   ]
  },
  {
   "cell_type": "markdown",
   "id": "b393b67b-86a2-4766-a816-5c5a1c63a671",
   "metadata": {},
   "source": [
    "**Associate the $\\theta_m$ variables to subsystems**"
   ]
  },
  {
   "cell_type": "code",
   "execution_count": 13,
   "id": "b3007408",
   "metadata": {
    "tags": []
   },
   "outputs": [
    {
     "data": {
      "image/png": "[encoded data removed]",
      "text/latex": [
       "$\\displaystyle \\left[ 6, \\  6\\right]$"
      ],
      "text/plain": [
       "[6, 6]"
      ]
     },
     "execution_count": 13,
     "metadata": {},
     "output_type": "execute_result"
    }
   ],
   "source": [
    "system_hierarchy = [[1,3], [2]]\n",
    "scq.truncation_template(system_hierarchy)"
   ]
  },
  {
   "cell_type": "markdown",
   "id": "533140d9-d7c5-4fa1-9731-70e24766efd9",
   "metadata": {},
   "source": [
    "**Set cut-offs for the eigenbasis of each subsystem**"
   ]
  },
  {
   "cell_type": "code",
   "execution_count": 14,
   "id": "37f581b7-7d8e-4836-8303-a789ee7e2843",
   "metadata": {},
   "outputs": [],
   "source": [
    "subsystem_trunc_dims = [80, 30]"
   ]
  },
  {
   "cell_type": "markdown",
   "id": "9635c99f-c167-4781-8a9c-e74313c5de65",
   "metadata": {},
   "source": [
    "**Setup circuit for HD**"
   ]
  },
  {
   "cell_type": "code",
   "execution_count": 15,
   "id": "200e23a1",
   "metadata": {
    "tags": []
   },
   "outputs": [],
   "source": [
    "zero_pi.cutoff_n_1 = 15\n",
    "zero_pi.cutoff_ext_2 = 40\n",
    "zero_pi.cutoff_ext_3 = 80\n",
    "zero_pi.configure(system_hierarchy=system_hierarchy, subsystem_trunc_dims=subsystem_trunc_dims)"
   ]
  },
  {
   "cell_type": "markdown",
   "id": "2d8b5098",
   "metadata": {},
   "source": [
    "**Hamiltonian of each subsystem**"
   ]
  },
  {
   "cell_type": "code",
   "execution_count": 16,
   "id": "f49c0b98",
   "metadata": {
    "tags": []
   },
   "outputs": [
    {
     "data": {
      "image/png": "[encoded data removed]",
      "text/latex": [
       "$\\displaystyle \\left(40.0 Q_{3}^{2} + 0.03996 n_{1}^{2} + 0.07992 n_{1} n_{g1}\\right) - \\left(- 0.009 θ_{3}^{2} + EJ \\cos{\\left(θ_{1} - 1.0 θ_{3} \\right)} + EJ \\cos{\\left(θ_{1} + θ_{3} - 1.0 (2πΦ_{1}) \\right)}\\right)$"
      ],
      "text/plain": [
       "       2             2                             2                          \n",
       "40.0⋅Q₃  + 0.03996⋅n₁  + 0.07992⋅n₁⋅n_g1 + 0.009⋅θ₃  - EJ⋅cos(θ₁ - θ₃) - EJ⋅co\n",
       "\n",
       "                      \n",
       "s(θ₁ + θ₃ - (2πΦ_{1}))"
      ]
     },
     "execution_count": 16,
     "metadata": {},
     "output_type": "execute_result"
    }
   ],
   "source": [
    "zero_pi.sym_hamiltonian(subsystem_index=0) "
   ]
  },
  {
   "cell_type": "code",
   "execution_count": 17,
   "id": "41ab2bf0-5e24-452f-a271-547100ba24c8",
   "metadata": {},
   "outputs": [
    {
     "data": {
      "image/png": "[encoded data removed]",
      "text/latex": [
       "$\\displaystyle 0.01 Q_{2}^{2} + 0.036 θ_{2}^{2}$"
      ],
      "text/plain": [
       "       2           2\n",
       "0.01⋅Q₂  + 0.036⋅θ₂ "
      ]
     },
     "execution_count": 17,
     "metadata": {},
     "output_type": "execute_result"
    }
   ],
   "source": [
    "zero_pi.sym_hamiltonian(subsystem_index=1)"
   ]
  },
  {
   "cell_type": "markdown",
   "id": "f9d66d86",
   "metadata": {},
   "source": [
    "**Interaction between subsystems**"
   ]
  },
  {
   "cell_type": "code",
   "execution_count": 18,
   "id": "6b99a190",
   "metadata": {
    "tags": []
   },
   "outputs": [
    {
     "data": {
      "image/png": "[encoded data removed]",
      "text/latex": [
       "$\\displaystyle 0.004 θ_{2} θ_{3}$"
      ],
      "text/plain": [
       "0.004⋅θ₂⋅θ₃"
      ]
     },
     "execution_count": 18,
     "metadata": {},
     "output_type": "execute_result"
    }
   ],
   "source": [
    "zero_pi.sym_interaction((0,1))  # show coupling terms between subsystems 0 and 1"
   ]
  },
  {
   "cell_type": "markdown",
   "id": "cb3a473f-fe16-437c-9845-d85cdfc33464",
   "metadata": {},
   "source": [
    "**Eigenvalues using HD**"
   ]
  },
  {
   "cell_type": "code",
   "execution_count": 19,
   "id": "50404a5d-8bdb-409b-aab4-887aa8e7e59f",
   "metadata": {},
   "outputs": [
    {
     "name": "stdout",
     "output_type": "stream",
     "text": [
      "CPU times: user 28.1 s, sys: 1min 14s, total: 1min 42s\n",
      "Wall time: 6.78 s\n"
     ]
    },
    {
     "data": {
      "text/plain": [
       "array([-3.64681404, -3.64595024, -3.61785781, -3.61699292, -3.56142004,\n",
       "       -3.56054153])"
      ]
     },
     "execution_count": 19,
     "metadata": {},
     "output_type": "execute_result"
    }
   ],
   "source": [
    "%time zero_pi.eigenvals()"
   ]
  },
  {
   "cell_type": "markdown",
   "id": "cb09fd8e",
   "metadata": {},
   "source": [
    "## Set external fluxes"
   ]
  },
  {
   "cell_type": "code",
   "execution_count": 20,
   "id": "fcf140cd",
   "metadata": {
    "tags": []
   },
   "outputs": [
    {
     "data": {
      "text/plain": [
       "{Φ1: (Branch(JJ, 3, 4),\n",
       "  [Branch(JJ, 1, 2), Branch(L, 2, 3), Branch(L, 4, 1), Branch(JJ, 3, 4)])}"
      ]
     },
     "execution_count": 20,
     "metadata": {},
     "output_type": "execute_result"
    }
   ],
   "source": [
    "zero_pi.sym_external_fluxes()"
   ]
  },
  {
   "cell_type": "code",
   "execution_count": 21,
   "id": "3f8b462a-4436-4d45-b430-bcd552c08d41",
   "metadata": {},
   "outputs": [
    {
     "data": {
      "image/png": "[encoded data removed]",
      "text/latex": [
       "$\\displaystyle \\left\\{ \\right\\}$"
      ],
      "text/plain": [
       "{}"
      ]
     },
     "execution_count": 21,
     "metadata": {},
     "output_type": "execute_result"
    }
   ],
   "source": [
    "zero_pi.get_initdata()"
   ]
  },
  {
   "cell_type": "code",
   "execution_count": 22,
   "id": "b8eb8bed",
   "metadata": {
    "tags": []
   },
   "outputs": [
    {
     "data": {
      "application/vnd.jupyter.widget-view+json": {
       "model_id": "c393d08bfb7b4b21baceb7acd1c0ebc5",
       "version_major": 2,
       "version_minor": 0
      },
      "text/plain": [
       "Spectral data:   0%|          | 0/21 [00:00<?, ?it/s]"
      ]
     },
     "metadata": {},
     "output_type": "display_data"
    },
    {
     "data": {
      "text/plain": [
       "(<Figure size 432x288 with 1 Axes>,\n",
       " <AxesSubplot:xlabel='Φ1', ylabel='energy [GHz]'>)"
      ]
     },
     "execution_count": 22,
     "metadata": {},
     "output_type": "execute_result"
    },
    {
     "data": {
      "image/png": "[encoded data removed]",
      "text/plain": [
       "<Figure size 432x288 with 1 Axes>"
      ]
     },
     "metadata": {
      "needs_background": "light"
     },
     "output_type": "display_data"
    }
   ],
   "source": [
    "zero_pi.plot_evals_vs_paramvals(\"Φ1\", np.linspace(0,1,21))\n",
    "# zero_pi.plot_evals_vs_paramvals(\"ng1\", np.linspace(0,1,51))"
   ]
  },
  {
   "cell_type": "markdown",
   "id": "f0e10ef8",
   "metadata": {},
   "source": [
    "## Visualization capabilities"
   ]
  },
  {
   "cell_type": "markdown",
   "id": "6b94cfe2-16bf-4da3-ac15-bdb642bd2fa6",
   "metadata": {},
   "source": [
    "**Potential energy cross-sections**"
   ]
  },
  {
   "cell_type": "code",
   "execution_count": 23,
   "id": "ad266245",
   "metadata": {
    "tags": []
   },
   "outputs": [
    {
     "data": {
      "image/png": "[encoded data removed]",
      "text/latex": [
       "$\\displaystyle 0.009 θ_{3}^{2} + 0.036 θ_{2}^{2} - EJ \\cos{\\left(1.0 θ_{1} - 1.0 θ_{3} \\right)} - EJ \\cos{\\left(- Φ_{1} + 1.0 θ_{1} + 1.0 θ_{3} \\right)} + 0.004 θ_{2} θ_{3}$"
      ],
      "text/plain": [
       "        2           2                                                         \n",
       "0.009⋅θ₃  + 0.036⋅θ₂  - EJ⋅cos(1.0⋅θ₁ - θ₃) - EJ⋅cos(-Φ₁ + 1.0⋅θ₁ + 1.0⋅θ₃) + \n",
       "\n",
       "           \n",
       "0.004⋅θ₂⋅θ₃"
      ]
     },
     "execution_count": 23,
     "metadata": {},
     "output_type": "execute_result"
    }
   ],
   "source": [
    "zero_pi.potential_symbolic"
   ]
  },
  {
   "cell_type": "code",
   "execution_count": 24,
   "id": "c21bbc97",
   "metadata": {
    "tags": []
   },
   "outputs": [
    {
     "data": {
      "text/plain": [
       "(<Figure size 432x288 with 2 Axes>,\n",
       " <AxesSubplot:xlabel='$\\\\theta_{1}$', ylabel='$\\\\theta_{3}$'>)"
      ]
     },
     "execution_count": 24,
     "metadata": {},
     "output_type": "execute_result"
    },
    {
     "data": {
      "image/png": "[encoded data removed]",
      "text/plain": [
       "<Figure size 432x288 with 2 Axes>"
      ]
     },
     "metadata": {
      "needs_background": "light"
     },
     "output_type": "display_data"
    }
   ],
   "source": [
    "zero_pi.plot_potential(θ1=np.linspace(-np.pi, np.pi,100), \n",
    "                       θ3=np.linspace(-10*np.pi, 10*np.pi, 300), \n",
    "                       θ2 = 0.)"
   ]
  },
  {
   "cell_type": "markdown",
   "id": "f9c7bc0c",
   "metadata": {},
   "source": [
    "### Eigenstates"
   ]
  },
  {
   "cell_type": "code",
   "execution_count": 29,
   "id": "edc2931d",
   "metadata": {
    "tags": []
   },
   "outputs": [
    {
     "data": {
      "text/plain": [
       "(<Figure size 432x288 with 1 Axes>,\n",
       " <AxesSubplot:xlabel='$\\\\theta_{3}$', ylabel='$|\\\\psi(\\\\theta_{3})|^2$'>)"
      ]
     },
     "execution_count": 29,
     "metadata": {},
     "output_type": "execute_result"
    },
    {
     "data": {
      "image/png": "[encoded data removed]",
      "text/plain": [
       "<Figure size 432x288 with 1 Axes>"
      ]
     },
     "metadata": {
      "needs_background": "light"
     },
     "output_type": "display_data"
    }
   ],
   "source": [
    "zero_pi.plot_wavefunction(which=0, var_indices=(3,))"
   ]
  },
  {
   "cell_type": "markdown",
   "id": "9347a84a",
   "metadata": {},
   "source": [
    "A maximum of two variable indices can be specified for a plot:"
   ]
  },
  {
   "cell_type": "code",
   "execution_count": 27,
   "id": "74d19cae",
   "metadata": {},
   "outputs": [
    {
     "data": {
      "text/plain": [
       "(<Figure size 576x216 with 2 Axes>,\n",
       " <AxesSubplot:xlabel='$\\\\theta_{2}$', ylabel='$\\\\theta_{1}$'>)"
      ]
     },
     "execution_count": 27,
     "metadata": {},
     "output_type": "execute_result"
    },
    {
     "data": {
      "image/png": "[encoded data removed]",
      "text/plain": [
       "<Figure size 576x216 with 2 Axes>"
      ]
     },
     "metadata": {
      "needs_background": "light"
     },
     "output_type": "display_data"
    },
    {
     "data": {
      "image/png": "[encoded data removed]",
      "text/plain": [
       "<Figure size 576x216 with 2 Axes>"
      ]
     },
     "metadata": {
      "needs_background": "light"
     },
     "output_type": "display_data"
    }
   ],
   "source": [
    "zero_pi.plot_wavefunction(which=1, var_indices=(1,3))\n",
    "zero_pi.plot_wavefunction(which=1, var_indices=(1,2))"
   ]
  }
 ],
 "metadata": {
  "kernelspec": {
   "display_name": "Python 3 (ipykernel)",
   "language": "python",
   "name": "python3"
  },
  "language_info": {
   "codemirror_mode": {
    "name": "ipython",
    "version": 3
   },
   "file_extension": ".py",
   "mimetype": "text/x-python",
   "name": "python",
   "nbconvert_exporter": "python",
   "pygments_lexer": "ipython3",
   "version": "3.9.16"
  },
  "vscode": {
   "interpreter": {
    "hash": "a792fa536c1d1b0e62eb0b6e146dcf6dde722af8006d3c91d223a0709e1eefa9"
   }
  }
 },
 "nbformat": 4,
 "nbformat_minor": 5
}
