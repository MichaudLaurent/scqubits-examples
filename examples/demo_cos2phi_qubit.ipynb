{
 "cells": [
  {
   "cell_type": "markdown",
   "metadata": {},
   "source": [
    "# scqubits example: cos2phi qubit\n",
    "J. Koch and P. Groszkowski <br>Xinyuan You\n",
    "\n",
    "For further documentation of scqubits see https://scqubits.readthedocs.io/en/latest/.\n",
    "\n",
    "---"
   ]
  },
  {
   "cell_type": "code",
   "execution_count": null,
   "metadata": {
    "ExecuteTime": {
     "end_time": "2021-03-11T02:42:35.772716Z",
     "start_time": "2021-03-11T02:42:34.370047Z"
    }
   },
   "outputs": [],
   "source": [
    "import numpy as np\n",
    "import scqubits as scq"
   ]
  },
  {
   "cell_type": "markdown",
   "metadata": {},
   "source": [
    "# cos2phi qubit"
   ]
  },
  {
   "cell_type": "markdown",
   "metadata": {},
   "source": [
    "$H = 2 E_\\text{CJ}'n_\\phi^2 + 2 E_\\text{CJ}' (n_\\theta - n_\\text{g} - n_\\zeta)^2 + 4 E_\\text{C} n_\\zeta^2\n",
    "         + E_\\text{L}'(\\phi - \\pi\\Phi_\\text{ext}/\\Phi_0)^2 + E_\\text{L}' \\zeta^2 - 2 E_\\text{J}\\cos{\\theta}\\cos{\\phi} \\\\\n",
    "         + 2 dE_\\text{J} E_\\text{J}\\sin{\\theta}\\sin{\\phi} \n",
    "         - 4 dC_\\text{J} E_\\text{CJ}' n_\\phi (n_\\theta - n_\\text{g}-n_\\zeta) \n",
    "         + dL E_\\text{L}'(2\\phi - \\varphi_\\text{ext})\\zeta,$\n",
    "         \n",
    "where $E_\\text{CJ}' = E_\\text{CJ} / (1 - dC_\\text{J})^2$ and $E_\\text{L}' = E_\\text{L} / (1 - dL)^2$."
   ]
  },
  {
   "cell_type": "markdown",
   "metadata": {},
   "source": [
    "To numerically diagonalize the Hamiltonian of the cos2phi qubit, the harmonic basis is used for both the $\\phi$ and $\\zeta$ variables, and the charge basis is used for the $\\theta$ variable."
   ]
  },
  {
   "cell_type": "markdown",
   "metadata": {},
   "source": [
    "With ipywidgets installed, a cos2phi qubit instance can be created with:"
   ]
  },
  {
   "cell_type": "code",
   "execution_count": null,
   "metadata": {
    "ExecuteTime": {
     "end_time": "2021-03-11T02:42:35.969228Z",
     "start_time": "2021-03-11T02:42:35.775838Z"
    }
   },
   "outputs": [],
   "source": [
    "cos2phi_qubit = scq.Cos2PhiQubit.create()"
   ]
  },
  {
   "cell_type": "markdown",
   "metadata": {},
   "source": [
    "From figure above, we can see that cos2phi can be viewed as a $0-\\pi$ qubit with maximum disorder in shunt capacitors.\n",
    "\n",
    "Benifits of cos2phi qubit: When biased at half flux quantum, it is protected from dielectric loss, charge noise and flux noise. However, it suffers from inductive loss, see https://bpb-us-e1.wpmucdn.com/sites.northwestern.edu/dist/2/1168/files/2022/01/Xinyuan-You-2021.pdf page 80 for more details."
   ]
  },
  {
   "cell_type": "markdown",
   "metadata": {},
   "source": [
    "Alternatively, the qubit instance can be crated with:"
   ]
  },
  {
   "cell_type": "code",
   "execution_count": null,
   "metadata": {
    "ExecuteTime": {
     "end_time": "2021-03-11T02:42:35.974074Z",
     "start_time": "2021-03-11T02:42:35.970941Z"
    }
   },
   "outputs": [],
   "source": [
    "cos2phi_qubit = scq.Cos2PhiQubit(EJ = 15.0,\n",
    "                                 ECJ = 2.0,\n",
    "                                 EL = 1.0,\n",
    "                                 EC = 0.04,\n",
    "                                 dCJ = 0.0,\n",
    "                                 dL = 0.0,\n",
    "                                 dEJ = 0.0,\n",
    "                                 flux = 0.5,\n",
    "                                 ng = 0.0,\n",
    "                                 ncut = 10,\n",
    "                                 phi_cut = 10,\n",
    "                                 zeta_cut = 30)"
   ]
  },
  {
   "cell_type": "code",
   "execution_count": null,
   "metadata": {
    "ExecuteTime": {
     "end_time": "2021-03-11T02:42:35.978143Z",
     "start_time": "2021-03-11T02:42:35.976060Z"
    }
   },
   "outputs": [],
   "source": [
    "print(cos2phi_qubit)"
   ]
  },
  {
   "cell_type": "markdown",
   "metadata": {},
   "source": [
    "### Potential energy\n",
    "evaluated for $\\zeta=0$"
   ]
  },
  {
   "cell_type": "code",
   "execution_count": null,
   "metadata": {
    "ExecuteTime": {
     "end_time": "2021-03-11T02:42:36.374414Z",
     "start_time": "2021-03-11T02:42:35.979646Z"
    }
   },
   "outputs": [],
   "source": [
    "cos2phi_qubit.plot_potential();"
   ]
  },
  {
   "cell_type": "markdown",
   "metadata": {},
   "source": [
    "### Eigenenergies"
   ]
  },
  {
   "cell_type": "code",
   "execution_count": null,
   "metadata": {
    "ExecuteTime": {
     "end_time": "2021-03-11T02:42:36.379429Z",
     "start_time": "2021-03-11T02:42:36.377317Z"
    }
   },
   "outputs": [],
   "source": [
    "cos2phi_qubit.dL = 0.0\n",
    "cos2phi_qubit.n_cut = 10\n",
    "cos2phi_qubit.phi_cut = 10\n"
   ]
  },
  {
   "cell_type": "code",
   "execution_count": null,
   "metadata": {
    "ExecuteTime": {
     "end_time": "2021-03-11T02:42:37.044824Z",
     "start_time": "2021-03-11T02:42:36.381092Z"
    }
   },
   "outputs": [],
   "source": [
    "cos2phi_qubit.eigenvals(evals_count=10)"
   ]
  },
  {
   "cell_type": "code",
   "execution_count": null,
   "metadata": {
    "ExecuteTime": {
     "end_time": "2021-03-11T02:43:37.024841Z",
     "start_time": "2021-03-11T02:42:37.046396Z"
    }
   },
   "outputs": [],
   "source": [
    "flux_list = np.linspace(0, 0.6, 100)\n",
    "cos2phi_qubit.plot_evals_vs_paramvals('flux', flux_list, evals_count=14, subtract_ground=True);"
   ]
  },
  {
   "cell_type": "code",
   "execution_count": null,
   "metadata": {
    "ExecuteTime": {
     "end_time": "2021-03-11T02:43:38.389641Z",
     "start_time": "2021-03-11T02:43:37.026537Z"
    }
   },
   "outputs": [],
   "source": [
    "fig, ax = cos2phi_qubit.plot_wavefunction(which=0, mode='real', zero_calibrate=True)"
   ]
  },
  {
   "cell_type": "code",
   "execution_count": null,
   "metadata": {
    "ExecuteTime": {
     "end_time": "2021-03-11T02:43:39.832466Z",
     "start_time": "2021-03-11T02:43:38.391435Z"
    }
   },
   "outputs": [],
   "source": [
    "fig, ax = cos2phi_qubit.plot_wavefunction(which=1, mode='real', zero_calibrate=True)"
   ]
  },
  {
   "cell_type": "markdown",
   "metadata": {},
   "source": [
    "### Matrix element"
   ]
  },
  {
   "cell_type": "code",
   "execution_count": null,
   "metadata": {
    "ExecuteTime": {
     "end_time": "2021-03-11T02:43:41.204625Z",
     "start_time": "2021-03-11T02:43:39.834124Z"
    }
   },
   "outputs": [],
   "source": [
    "cos2phi_qubit.plot_matrixelements('n_phi_operator', evals_count=10);"
   ]
  },
  {
   "cell_type": "code",
   "execution_count": null,
   "metadata": {
    "ExecuteTime": {
     "start_time": "2021-03-11T02:42:34.385Z"
    }
   },
   "outputs": [],
   "source": [
    "flux_list = np.linspace(0.4, 0.6, 101)\n",
    "fig, ax = cos2phi_qubit.plot_matelem_vs_paramvals('n_phi_operator', 'flux', flux_list, select_elems=4);"
   ]
  },
  {
   "cell_type": "code",
   "execution_count": null,
   "metadata": {},
   "outputs": [],
   "source": []
  }
 ],
 "metadata": {
  "kernelspec": {
   "display_name": "Python 3 (ipykernel)",
   "language": "python",
   "name": "python3"
  },
  "language_info": {
   "codemirror_mode": {
    "name": "ipython",
    "version": 3
   },
   "file_extension": ".py",
   "mimetype": "text/x-python",
   "name": "python",
   "nbconvert_exporter": "python",
   "pygments_lexer": "ipython3",
   "version": "3.8.3"
  }
 },
 "nbformat": 4,
 "nbformat_minor": 4
}
