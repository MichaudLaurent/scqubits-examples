{
 "cells": [
  {
   "cell_type": "markdown",
   "metadata": {},
   "source": [
    "# scqubits example: composite Hilbert spaces\n",
    "J. Koch and P. Groszkowski<br>\n",
    "E. Blackwell\n",
    "\n",
    "For further documentation of scqubits see https://scqubits.readthedocs.io/en/latest/.\n",
    "\n",
    "---"
   ]
  },
  {
   "cell_type": "code",
   "execution_count": 1,
   "metadata": {
    "ExecuteTime": {
     "end_time": "2020-03-31T11:43:53.057632Z",
     "start_time": "2020-03-31T11:43:53.000813Z"
    },
    "init_cell": true,
    "pycharm": {
     "is_executing": false
    },
    "scrolled": true
   },
   "outputs": [],
   "source": [
    "import scqubits as scq\n",
    "\n",
    "import numpy as np\n",
    "import qutip as qt"
   ]
  },
  {
   "cell_type": "markdown",
   "metadata": {},
   "source": [
    "# Working with composite Hilbert spaces and interfacing with QuTiP\n",
    "\n",
    "Systems of interest for quantum information processing will involve multiple qubits as well as oscillators with mutual coupling. The resulting Hilbert space is the tensor product of the individual constituent Hilbert spaces. The `HilbertSpace` class allows one to define such coupled systems, to define the interactions between them, and to contruct the overall Hamiltonian. From this, dressed eigenenergies and eigenstates can be extracted. The operator matrices and state vectors  at the `HilbertSpace` level are given as QuTiP `Qobj` instances. This interface to QuTiP is particularly helpful if the task at hand is the simulation of time-dependent dynamics of the coupled system, perhaps including additional drive terms."
   ]
  },
  {
   "cell_type": "markdown",
   "metadata": {},
   "source": [
    "## Example: two ocilllator qubits coupled by an rf SQUID\n",
    "\n",
    "As an interesting example of a coupled quantum system consider two harmonic modes coupled by an rf SQUID. The effective Hamiltonian describing this composite system, after integrating out the SQUID degrees of freedom,  is given by [https://www.nature.com/articles/s41567-019-0703-5]\n",
    "\n",
    "$\\displaystyle H/\\hbar = \\omega_a a^\\dagger a + \\omega_b b^\\dagger b + g(a^\\dagger b + a b^\\dagger) + g_2(a^\\dagger a^\\dagger b + a a b^\\dagger) + \\chi_{ab} a^\\dagger ab^\\dagger b + \\frac{\\chi_{aa}}{2} a^\\dagger a^\\dagger a a + \\frac{\\chi_{bb}}{2} b^\\dagger b^\\dagger b b$.\n",
    "\n",
    "\n",
    "### Define Hilbert space components, initialize `HilbertSpace` object\n",
    "\n",
    "To set up the Hilbert space, we define the separate components as Kerr oscillators and initialize a `HilbertSpace` object by submitting the list of all subsystems:"
   ]
  },
  {
   "cell_type": "code",
   "execution_count": 2,
   "metadata": {
    "ExecuteTime": {
     "end_time": "2020-03-31T11:43:54.037807Z",
     "start_time": "2020-03-31T11:43:54.024841Z"
    },
    "pycharm": {
     "name": "#%%\n"
    }
   },
   "outputs": [],
   "source": [
    "# Set up the components / subspaces of our Hilbert space\n",
    "\n",
    "osc1 = scq.KerrOscillator(\n",
    "    E_osc = 4.284,\n",
    "    K = 0.003,\n",
    "    l_osc = 1,\n",
    "    truncated_dim = 4,\n",
    ")\n",
    "\n",
    "osc2 = scq.KerrOscillator(\n",
    "    E_osc = 7.073,\n",
    "    K = 0.015,\n",
    "    l_osc = 1,\n",
    "    truncated_dim = 4,\n",
    ")"
   ]
  },
  {
   "cell_type": "code",
   "execution_count": 4,
   "metadata": {},
   "outputs": [
    {
     "data": {
      "application/vnd.jupyter.widget-view+json": {
       "model_id": "65c5f737ac8b41618a3b53090d065529",
       "version_major": 2,
       "version_minor": 0
      },
      "text/plain": [
       "Row(children=[Row(children=[ValidatedNumberField(class_='ml-2 py-0', dense=True, error=False, filled=True, lab…"
      ]
     },
     "metadata": {},
     "output_type": "display_data"
    },
    {
     "data": {
      "text/plain": [
       "KerrOscillator(**{'E_osc': 5.0, 'K': 0.05, 'l_osc': 1, 'truncated_dim': 6, 'id_str': 'KerrOscillator_3'})"
      ]
     },
     "execution_count": 4,
     "metadata": {},
     "output_type": "execute_result"
    }
   ],
   "source": [
    "scq.KerrOscillator.create()"
   ]
  },
  {
   "cell_type": "code",
   "execution_count": 5,
   "metadata": {},
   "outputs": [
    {
     "data": {
      "application/vnd.jupyter.widget-view+json": {
       "model_id": "b00195e0213b4228ac7e38e91fddfce4",
       "version_major": 2,
       "version_minor": 0
      },
      "text/plain": [
       "Container(children=[Card(children=[CardTitle(children=['Create Hilbert Space'], layout=None), Container(childr…"
      ]
     },
     "metadata": {},
     "output_type": "display_data"
    }
   ],
   "source": [
    "hilbertspace = scq.HilbertSpace.create()"
   ]
  },
  {
   "cell_type": "markdown",
   "metadata": {
    "pycharm": {
     "name": "#%% md\n"
    }
   },
   "source": [
    "While we yet have to set up the interactions between the components, we can already obtain the bare Hamiltonian of the non-interacting subsystems, expressed as a matrix in the joint Hilbert space:"
   ]
  },
  {
   "cell_type": "code",
   "execution_count": 5,
   "metadata": {
    "ExecuteTime": {
     "end_time": "2020-03-31T11:43:56.149663Z",
     "start_time": "2020-03-31T11:43:56.110801Z"
    },
    "pycharm": {
     "name": "#%%\n"
    }
   },
   "outputs": [
    {
     "data": {
      "text/latex": [
       "Quantum object: dims = [[4, 4], [4, 4]], shape = (16, 16), type = oper, isherm = True $ \\\\ \\left(\\begin{matrix}0.0 & 0.0 & 0.0 & 0.0 & 0.0 & \\cdots & 0.0 & 0.0 & 0.0 & 0.0 & 0.0\\\\0.0 & 7.073 & 0.0 & 0.0 & 0.0 & \\cdots & 0.0 & 0.0 & 0.0 & 0.0 & 0.0\\\\0.0 & 0.0 & 14.116 & 0.0 & 0.0 & \\cdots & 0.0 & 0.0 & 0.0 & 0.0 & 0.0\\\\0.0 & 0.0 & 0.0 & 21.129 & 0.0 & \\cdots & 0.0 & 0.0 & 0.0 & 0.0 & 0.0\\\\0.0 & 0.0 & 0.0 & 0.0 & 4.284 & \\cdots & 0.0 & 0.0 & 0.0 & 0.0 & 0.0\\\\\\vdots & \\vdots & \\vdots & \\vdots & \\vdots & \\ddots & \\vdots & \\vdots & \\vdots & \\vdots & \\vdots\\\\0.0 & 0.0 & 0.0 & 0.0 & 0.0 & \\cdots & 29.691 & 0.0 & 0.0 & 0.0 & 0.0\\\\0.0 & 0.0 & 0.0 & 0.0 & 0.0 & \\cdots & 0.0 & 12.834 & 0.0 & 0.0 & 0.0\\\\0.0 & 0.0 & 0.0 & 0.0 & 0.0 & \\cdots & 0.0 & 0.0 & 19.907 & 0.0 & 0.0\\\\0.0 & 0.0 & 0.0 & 0.0 & 0.0 & \\cdots & 0.0 & 0.0 & 0.0 & 26.950 & 0.0\\\\0.0 & 0.0 & 0.0 & 0.0 & 0.0 & \\cdots & 0.0 & 0.0 & 0.0 & 0.0 & 33.963\\\\\\end{matrix}\\right)$"
      ],
      "text/plain": [
       "Quantum object: dims = [[4, 4], [4, 4]], shape = (16, 16), type = oper, isherm = True\n",
       "Qobj data =\n",
       "[[ 0.     0.     0.     0.     0.     0.     0.     0.     0.     0.\n",
       "   0.     0.     0.     0.     0.     0.   ]\n",
       " [ 0.     7.073  0.     0.     0.     0.     0.     0.     0.     0.\n",
       "   0.     0.     0.     0.     0.     0.   ]\n",
       " [ 0.     0.    14.116  0.     0.     0.     0.     0.     0.     0.\n",
       "   0.     0.     0.     0.     0.     0.   ]\n",
       " [ 0.     0.     0.    21.129  0.     0.     0.     0.     0.     0.\n",
       "   0.     0.     0.     0.     0.     0.   ]\n",
       " [ 0.     0.     0.     0.     4.284  0.     0.     0.     0.     0.\n",
       "   0.     0.     0.     0.     0.     0.   ]\n",
       " [ 0.     0.     0.     0.     0.    11.357  0.     0.     0.     0.\n",
       "   0.     0.     0.     0.     0.     0.   ]\n",
       " [ 0.     0.     0.     0.     0.     0.    18.4    0.     0.     0.\n",
       "   0.     0.     0.     0.     0.     0.   ]\n",
       " [ 0.     0.     0.     0.     0.     0.     0.    25.413  0.     0.\n",
       "   0.     0.     0.     0.     0.     0.   ]\n",
       " [ 0.     0.     0.     0.     0.     0.     0.     0.     8.562  0.\n",
       "   0.     0.     0.     0.     0.     0.   ]\n",
       " [ 0.     0.     0.     0.     0.     0.     0.     0.     0.    15.635\n",
       "   0.     0.     0.     0.     0.     0.   ]\n",
       " [ 0.     0.     0.     0.     0.     0.     0.     0.     0.     0.\n",
       "  22.678  0.     0.     0.     0.     0.   ]\n",
       " [ 0.     0.     0.     0.     0.     0.     0.     0.     0.     0.\n",
       "   0.    29.691  0.     0.     0.     0.   ]\n",
       " [ 0.     0.     0.     0.     0.     0.     0.     0.     0.     0.\n",
       "   0.     0.    12.834  0.     0.     0.   ]\n",
       " [ 0.     0.     0.     0.     0.     0.     0.     0.     0.     0.\n",
       "   0.     0.     0.    19.907  0.     0.   ]\n",
       " [ 0.     0.     0.     0.     0.     0.     0.     0.     0.     0.\n",
       "   0.     0.     0.     0.    26.95   0.   ]\n",
       " [ 0.     0.     0.     0.     0.     0.     0.     0.     0.     0.\n",
       "   0.     0.     0.     0.     0.    33.963]]"
      ]
     },
     "execution_count": 5,
     "metadata": {},
     "output_type": "execute_result"
    }
   ],
   "source": [
    "bare_hamiltonian = hilbertspace.bare_hamiltonian()\n",
    "bare_hamiltonian"
   ]
  },
  {
   "cell_type": "markdown",
   "metadata": {
    "pycharm": {
     "name": "#%% md\n"
    }
   },
   "source": [
    "The Hamiltonian matrix is given in the form of a QuTiP quantum object.\n",
    "This facilitates simple incorporation of Hamiltonians generated with `scqubits` into any of the solvers QuTiP offers for time evolution."
   ]
  },
  {
   "cell_type": "markdown",
   "metadata": {
    "pycharm": {
     "name": "#%% md\n"
    }
   },
   "source": [
    "### Set up interaction terms between individual subsystems"
   ]
  },
  {
   "cell_type": "markdown",
   "metadata": {},
   "source": [
    "1. $g(a^\\dagger b + a b^\\dagger)$\n",
    "2. $g_2(a^\\dagger a^\\dagger b + a a b^\\dagger)$\n",
    "3. $\\chi_{ab} a^\\dagger ab^\\dagger b$"
   ]
  },
  {
   "cell_type": "code",
   "execution_count": 6,
   "metadata": {
    "ExecuteTime": {
     "end_time": "2020-03-31T11:44:00.099411Z",
     "start_time": "2020-03-31T11:44:00.092429Z"
    },
    "pycharm": {
     "name": "#%%\n"
    }
   },
   "outputs": [],
   "source": [
    "# Term 1\n",
    "# Option A: operator product specification via callables\n",
    "\n",
    "g = 0.1\n",
    "\n",
    "hilbertspace.add_interaction(\n",
    "    g_strength = g,\n",
    "    op1 = osc1.creation_operator,\n",
    "    op2 = osc2.annihilation_operator,\n",
    "    add_hc = True\n",
    ")\n",
    "\n",
    "\n",
    "# # Term 2\n",
    "# # Option B: string-based specification of interaction term\n",
    "\n",
    "# g2 = 0.035 \n",
    "\n",
    "# hilbertspace.add_interaction(\n",
    "#     expr = \"g2 * (adag * adag * b)\",\n",
    "#     op1 = (\"adag\", osc1.creation_operator),\n",
    "#     op2 = (\"b\", osc2.annihilation_operator),\n",
    "#     add_hc = True\n",
    "# )\n",
    "\n",
    "\n",
    "# # Term 3\n",
    "\n",
    "# chi_ab = 0.01\n",
    "\n",
    "# hilbertspace.add_interaction(\n",
    "#     expr = \"chi_ab * a.dag() * a.dag() * b.dag() * b\",\n",
    "#     op1 = (\"a\", osc1.annihilation_operator),\n",
    "#     op2 = (\"b\", osc2.annihilation_operator),\n",
    "#     add_hc = True\n",
    "# )\n",
    "\n"
   ]
  },
  {
   "cell_type": "markdown",
   "metadata": {
    "pycharm": {
     "name": "#%% md\n"
    }
   },
   "source": [
    "Now that the interactions are specified, the full Hamiltonian of the coupled system can be obtained via:"
   ]
  },
  {
   "cell_type": "code",
   "execution_count": 7,
   "metadata": {
    "ExecuteTime": {
     "end_time": "2020-03-31T11:44:03.627440Z",
     "start_time": "2020-03-31T11:44:03.599501Z"
    },
    "pycharm": {
     "name": "#%%\n"
    }
   },
   "outputs": [
    {
     "data": {
      "text/latex": [
       "Quantum object: dims = [[4, 4], [4, 4]], shape = (16, 16), type = oper, isherm = True $ \\\\ \\left(\\begin{matrix}0.0 & 0.0 & 0.0 & 0.0 & 0.0 & \\cdots & 0.0 & 0.0 & 0.0 & 0.0 & 0.0\\\\0.0 & 7.073 & 0.0 & 0.0 & 0.100 & \\cdots & 0.0 & 0.0 & 0.0 & 0.0 & 0.0\\\\0.0 & 0.0 & 14.116 & 0.0 & 0.0 & \\cdots & 0.0 & 0.0 & 0.0 & 0.0 & 0.0\\\\0.0 & 0.0 & 0.0 & 21.129 & 0.0 & \\cdots & 0.0 & 0.0 & 0.0 & 0.0 & 0.0\\\\0.0 & 0.100 & 0.0 & 0.0 & 4.284 & \\cdots & 0.0 & 0.0 & 0.0 & 0.0 & 0.0\\\\\\vdots & \\vdots & \\vdots & \\vdots & \\vdots & \\ddots & \\vdots & \\vdots & \\vdots & \\vdots & \\vdots\\\\0.0 & 0.0 & 0.0 & 0.0 & 0.0 & \\cdots & 29.691 & 0.0 & 0.0 & 0.300 & 0.0\\\\0.0 & 0.0 & 0.0 & 0.0 & 0.0 & \\cdots & 0.0 & 12.834 & 0.0 & 0.0 & 0.0\\\\0.0 & 0.0 & 0.0 & 0.0 & 0.0 & \\cdots & 0.0 & 0.0 & 19.907 & 0.0 & 0.0\\\\0.0 & 0.0 & 0.0 & 0.0 & 0.0 & \\cdots & 0.300 & 0.0 & 0.0 & 26.950 & 0.0\\\\0.0 & 0.0 & 0.0 & 0.0 & 0.0 & \\cdots & 0.0 & 0.0 & 0.0 & 0.0 & 33.963\\\\\\end{matrix}\\right)$"
      ],
      "text/plain": [
       "Quantum object: dims = [[4, 4], [4, 4]], shape = (16, 16), type = oper, isherm = True\n",
       "Qobj data =\n",
       "[[ 0.          0.          0.          0.          0.          0.\n",
       "   0.          0.          0.          0.          0.          0.\n",
       "   0.          0.          0.          0.        ]\n",
       " [ 0.          7.073       0.          0.          0.1         0.\n",
       "   0.          0.          0.          0.          0.          0.\n",
       "   0.          0.          0.          0.        ]\n",
       " [ 0.          0.         14.116       0.          0.          0.14142136\n",
       "   0.          0.          0.          0.          0.          0.\n",
       "   0.          0.          0.          0.        ]\n",
       " [ 0.          0.          0.         21.129       0.          0.\n",
       "   0.17320508  0.          0.          0.          0.          0.\n",
       "   0.          0.          0.          0.        ]\n",
       " [ 0.          0.1         0.          0.          4.284       0.\n",
       "   0.          0.          0.          0.          0.          0.\n",
       "   0.          0.          0.          0.        ]\n",
       " [ 0.          0.          0.14142136  0.          0.         11.357\n",
       "   0.          0.          0.14142136  0.          0.          0.\n",
       "   0.          0.          0.          0.        ]\n",
       " [ 0.          0.          0.          0.17320508  0.          0.\n",
       "  18.4         0.          0.          0.2         0.          0.\n",
       "   0.          0.          0.          0.        ]\n",
       " [ 0.          0.          0.          0.          0.          0.\n",
       "   0.         25.413       0.          0.          0.24494897  0.\n",
       "   0.          0.          0.          0.        ]\n",
       " [ 0.          0.          0.          0.          0.          0.14142136\n",
       "   0.          0.          8.562       0.          0.          0.\n",
       "   0.          0.          0.          0.        ]\n",
       " [ 0.          0.          0.          0.          0.          0.\n",
       "   0.2         0.          0.         15.635       0.          0.\n",
       "   0.17320508  0.          0.          0.        ]\n",
       " [ 0.          0.          0.          0.          0.          0.\n",
       "   0.          0.24494897  0.          0.         22.678       0.\n",
       "   0.          0.24494897  0.          0.        ]\n",
       " [ 0.          0.          0.          0.          0.          0.\n",
       "   0.          0.          0.          0.          0.         29.691\n",
       "   0.          0.          0.3         0.        ]\n",
       " [ 0.          0.          0.          0.          0.          0.\n",
       "   0.          0.          0.          0.17320508  0.          0.\n",
       "  12.834       0.          0.          0.        ]\n",
       " [ 0.          0.          0.          0.          0.          0.\n",
       "   0.          0.          0.          0.          0.24494897  0.\n",
       "   0.         19.907       0.          0.        ]\n",
       " [ 0.          0.          0.          0.          0.          0.\n",
       "   0.          0.          0.          0.          0.          0.3\n",
       "   0.          0.         26.95        0.        ]\n",
       " [ 0.          0.          0.          0.          0.          0.\n",
       "   0.          0.          0.          0.          0.          0.\n",
       "   0.          0.          0.         33.963     ]]"
      ]
     },
     "execution_count": 7,
     "metadata": {},
     "output_type": "execute_result"
    }
   ],
   "source": [
    "dressed_hamiltonian = hilbertspace.hamiltonian()\n",
    "dressed_hamiltonian"
   ]
  },
  {
   "cell_type": "markdown",
   "metadata": {},
   "source": [
    "Since the composite Hamiltonian is a `qutip.Qobj`, The eigenvalues and eigenvectors can be now be obtained via the usual QuTiP routine:"
   ]
  },
  {
   "cell_type": "code",
   "execution_count": 8,
   "metadata": {
    "ExecuteTime": {
     "end_time": "2020-03-31T11:44:06.327709Z",
     "start_time": "2020-03-31T11:44:06.314743Z"
    }
   },
   "outputs": [
    {
     "name": "stdout",
     "output_type": "stream",
     "text": [
      "[0.         4.28041908 7.07658092 8.55485344]\n"
     ]
    }
   ],
   "source": [
    "evals, evecs = dressed_hamiltonian.eigenstates(eigvals=4)\n",
    "print(evals)"
   ]
  },
  {
   "cell_type": "markdown",
   "metadata": {},
   "source": [
    "### GUI use for `HilbertSpace` object creation\n",
    "\n",
    "As an alternative to the programmatic generation of a new `HilbertSpace` object, the following GUI-based creation process is supported:"
   ]
  },
  {
   "cell_type": "code",
   "execution_count": 9,
   "metadata": {},
   "outputs": [
    {
     "data": {
      "application/vnd.jupyter.widget-view+json": {
       "model_id": "ca2ae80d182745d781af2d0730e64188",
       "version_major": 2,
       "version_minor": 0
      },
      "text/plain": [
       "Container(children=[Card(children=[CardTitle(children=['Create Hilbert Space'], layout=None), Container(childr…"
      ]
     },
     "metadata": {},
     "output_type": "display_data"
    }
   ],
   "source": [
    "hilbertspace_new = scq.HilbertSpace.create()"
   ]
  },
  {
   "cell_type": "code",
   "execution_count": 17,
   "metadata": {},
   "outputs": [
    {
     "ename": "NameError",
     "evalue": "name 'hilbertspace_new' is not defined",
     "output_type": "error",
     "traceback": [
      "\u001b[1;31m---------------------------------------------------------------------------\u001b[0m",
      "\u001b[1;31mNameError\u001b[0m                                 Traceback (most recent call last)",
      "Cell \u001b[1;32mIn[17], line 1\u001b[0m\n\u001b[1;32m----> 1\u001b[0m \u001b[43mhilbertspace_new\u001b[49m\n",
      "\u001b[1;31mNameError\u001b[0m: name 'hilbertspace_new' is not defined"
     ]
    }
   ],
   "source": [
    "hilbertspace_new"
   ]
  },
  {
   "cell_type": "markdown",
   "metadata": {},
   "source": [
    "### Spectrum lookup and converting between bare and dressed indices\n",
    "\n",
    "To use lookup functions for state indices, energies and states, first generate the lookup table via:"
   ]
  },
  {
   "cell_type": "code",
   "execution_count": 11,
   "metadata": {
    "ExecuteTime": {
     "end_time": "2020-03-31T11:44:10.103117Z",
     "start_time": "2020-03-31T11:44:10.030938Z"
    }
   },
   "outputs": [],
   "source": [
    "hilbertspace.generate_lookup()"
   ]
  },
  {
   "cell_type": "markdown",
   "metadata": {},
   "source": [
    "Here are the bare energies of the first Kerr oscillator:"
   ]
  },
  {
   "cell_type": "code",
   "execution_count": 12,
   "metadata": {
    "ExecuteTime": {
     "end_time": "2020-03-31T11:44:13.722890Z",
     "start_time": "2020-03-31T11:44:13.715941Z"
    }
   },
   "outputs": [
    {
     "data": {
      "text/plain": [
       "array([ 0.   ,  4.284,  8.562, 12.834])"
      ]
     },
     "execution_count": 12,
     "metadata": {},
     "output_type": "execute_result"
    }
   ],
   "source": [
    "hilbertspace.bare_eigenvals(osc1)"
   ]
  },
  {
   "cell_type": "markdown",
   "metadata": {},
   "source": [
    "The dressed state with index j=8 corresponds to following bare product state:"
   ]
  },
  {
   "cell_type": "code",
   "execution_count": 13,
   "metadata": {
    "ExecuteTime": {
     "end_time": "2020-03-31T11:44:16.331869Z",
     "start_time": "2020-03-31T11:44:16.324918Z"
    }
   },
   "outputs": [
    {
     "data": {
      "text/plain": [
       "(1, 2)"
      ]
     },
     "execution_count": 13,
     "metadata": {},
     "output_type": "execute_result"
    }
   ],
   "source": [
    "hilbertspace.bare_index(8)"
   ]
  },
  {
   "cell_type": "markdown",
   "metadata": {},
   "source": [
    "And the bare product state (2,1) most closely matches the following dressed state:"
   ]
  },
  {
   "cell_type": "code",
   "execution_count": 14,
   "metadata": {
    "ExecuteTime": {
     "end_time": "2020-03-31T11:44:19.844481Z",
     "start_time": "2020-03-31T11:44:19.837499Z"
    }
   },
   "outputs": [
    {
     "data": {
      "text/plain": [
       "7"
      ]
     },
     "execution_count": 14,
     "metadata": {},
     "output_type": "execute_result"
    }
   ],
   "source": [
    "hilbertspace.dressed_index((2,1))"
   ]
  },
  {
   "cell_type": "markdown",
   "metadata": {},
   "source": [
    "This is the eigenenergy for dressed index j=10:"
   ]
  },
  {
   "cell_type": "code",
   "execution_count": 15,
   "metadata": {
    "ExecuteTime": {
     "end_time": "2020-03-31T11:44:52.454767Z",
     "start_time": "2020-03-31T11:44:52.446792Z"
    }
   },
   "outputs": [
    {
     "data": {
      "text/plain": [
       "21.139978124536036"
      ]
     },
     "execution_count": 15,
     "metadata": {},
     "output_type": "execute_result"
    }
   ],
   "source": [
    "hilbertspace.energy_by_dressed_index(10)"
   ]
  },
  {
   "cell_type": "code",
   "execution_count": 9,
   "metadata": {},
   "outputs": [
    {
     "name": "stdout",
     "output_type": "stream",
     "text": [
      "Help on function dump in module dill._dill:\n",
      "\n",
      "dump(obj, file, protocol=None, byref=None, fmode=None, recurse=None, **kwds)\n",
      "    Pickle an object to a file.\n",
      "    \n",
      "    See :func:`dumps` for keyword arguments.\n",
      "\n"
     ]
    }
   ],
   "source": [
    "import dill\n",
    "help(dill.dump)\n"
   ]
  },
  {
   "cell_type": "code",
   "execution_count": 10,
   "metadata": {},
   "outputs": [],
   "source": [
    "import dill as pickle\n",
    "with open('name_model.pkl', 'wb') as file:\n",
    "    pickle.dump(hilbertspace, file)"
   ]
  },
  {
   "cell_type": "code",
   "execution_count": 11,
   "metadata": {},
   "outputs": [],
   "source": [
    "with open('name_model.pkl', 'rb') as file:\n",
    "    B = pickle.load(file)"
   ]
  },
  {
   "cell_type": "code",
   "execution_count": 12,
   "metadata": {},
   "outputs": [
    {
     "data": {
      "text/plain": [
       "HilbertSpace(**{'subsystem_list': [KerrOscillator(**{'E_osc': 4.284, 'K': 0.003, 'l_osc': 1, 'truncated_dim': 4, 'id_str': 'KerrOscillator_1'}), KerrOscillator(**{'E_osc': 7.073, 'K': 0.015, 'l_osc': 1, 'truncated_dim': 4, 'id_str': 'KerrOscillator_2'})], 'interaction_list': [InteractionTerm(**{'g_strength': 0.1, 'operator_list': [(0, <bound method Oscillator.creation_operator of KerrOscillator(**{'E_osc': 4.284, 'K': 0.003, 'l_osc': 1, 'truncated_dim': 4, 'id_str': 'KerrOscillator_1'})>), (1, <bound method Oscillator.annihilation_operator of KerrOscillator(**{'E_osc': 7.073, 'K': 0.015, 'l_osc': 1, 'truncated_dim': 4, 'id_str': 'KerrOscillator_2'})>)], 'add_hc': True})]})"
      ]
     },
     "execution_count": 12,
     "metadata": {},
     "output_type": "execute_result"
    }
   ],
   "source": [
    "B"
   ]
  },
  {
   "cell_type": "markdown",
   "metadata": {},
   "source": [
    "## Sweeping over an external parameter\n",
    "\n",
    "scqubits provides the class `ParameterSweep` to facilitate computation of spectra as function of an external parameter. See the example notebook for `ParameterSweep` to explore sweeps and visualizing sweep data."
   ]
  }
 ],
 "metadata": {
  "celltoolbar": "Initialisation Cell",
  "kernelspec": {
   "display_name": "Python 3 (ipykernel)",
   "language": "python",
   "name": "python3"
  },
  "language_info": {
   "codemirror_mode": {
    "name": "ipython",
    "version": 3
   },
   "file_extension": ".py",
   "mimetype": "text/x-python",
   "name": "python",
   "nbconvert_exporter": "python",
   "pygments_lexer": "ipython3",
   "version": "3.9.16"
  },
  "toc": {
   "base_numbering": 1,
   "nav_menu": {},
   "number_sections": false,
   "sideBar": true,
   "skip_h1_title": true,
   "title_cell": "Table of Contents",
   "title_sidebar": "Contents",
   "toc_cell": false,
   "toc_position": {},
   "toc_section_display": true,
   "toc_window_display": true
  },
  "varInspector": {
   "cols": {
    "lenName": 16,
    "lenType": 16,
    "lenVar": 40
   },
   "kernels_config": {
    "python": {
     "delete_cmd_postfix": "",
     "delete_cmd_prefix": "del ",
     "library": "var_list.py",
     "varRefreshCmd": "print(var_dic_list())"
    },
    "r": {
     "delete_cmd_postfix": ") ",
     "delete_cmd_prefix": "rm(",
     "library": "var_list.r",
     "varRefreshCmd": "cat(var_dic_list()) "
    }
   },
   "types_to_exclude": [
    "module",
    "function",
    "builtin_function_or_method",
    "instance",
    "_Feature"
   ],
   "window_display": false
  },
  "widgets": {
   "application/vnd.jupyter.widget-state+json": {
    "state": {},
    "version_major": 2,
    "version_minor": 0
   }
  }
 },
 "nbformat": 4,
 "nbformat_minor": 4
}
